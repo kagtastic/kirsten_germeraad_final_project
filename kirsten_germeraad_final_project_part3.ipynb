{
 "cells": [
  {
   "cell_type": "markdown",
   "metadata": {},
   "source": [
    "\n",
    "# Final Project: Part 3\n",
    "\n",
    "_Author: Kirsten Germeraad_\n",
    "\n",
    "---"
   ]
  },
  {
   "cell_type": "markdown",
   "metadata": {},
   "source": [
    "Exoplanet Hunting in Deep Space - Kepler labelled time series data\n",
    "\n",
    "Information about the data set from the creators:\n",
    "\n",
    "LABEL -> 2 is an exoplanet star and 1 is a non-exoplanet-star.\n",
    "\n",
    "FLUX1-FLUX3197 -> the light intensity recorded for each star, at a different point in time.\n",
    "\n",
    "Data sets can be found at https://www.kaggle.com/keplersmachines/kepler-labelled-time-series-data/home"
   ]
  },
  {
   "cell_type": "code",
   "execution_count": 131,
   "metadata": {
    "collapsed": true
   },
   "outputs": [],
   "source": [
    "import pandas as pd\n",
    "import matplotlib.pyplot as plt\n",
    "import seaborn as sns\n",
    "import numpy as np\n",
    "from sklearn import metrics\n",
    "\n",
    "from pathlib import Path\n",
    "\n",
    "%matplotlib inline"
   ]
  },
  {
   "cell_type": "code",
   "execution_count": 132,
   "metadata": {},
   "outputs": [
    {
     "data": {
      "text/html": [
       "<div>\n",
       "<style>\n",
       "    .dataframe thead tr:only-child th {\n",
       "        text-align: right;\n",
       "    }\n",
       "\n",
       "    .dataframe thead th {\n",
       "        text-align: left;\n",
       "    }\n",
       "\n",
       "    .dataframe tbody tr th {\n",
       "        vertical-align: top;\n",
       "    }\n",
       "</style>\n",
       "<table border=\"1\" class=\"dataframe\">\n",
       "  <thead>\n",
       "    <tr style=\"text-align: right;\">\n",
       "      <th></th>\n",
       "      <th>LABEL</th>\n",
       "      <th>FLUX.1</th>\n",
       "      <th>FLUX.2</th>\n",
       "      <th>FLUX.3</th>\n",
       "      <th>FLUX.4</th>\n",
       "      <th>FLUX.5</th>\n",
       "      <th>FLUX.6</th>\n",
       "      <th>FLUX.7</th>\n",
       "      <th>FLUX.8</th>\n",
       "      <th>FLUX.9</th>\n",
       "      <th>...</th>\n",
       "      <th>FLUX.3188</th>\n",
       "      <th>FLUX.3189</th>\n",
       "      <th>FLUX.3190</th>\n",
       "      <th>FLUX.3191</th>\n",
       "      <th>FLUX.3192</th>\n",
       "      <th>FLUX.3193</th>\n",
       "      <th>FLUX.3194</th>\n",
       "      <th>FLUX.3195</th>\n",
       "      <th>FLUX.3196</th>\n",
       "      <th>FLUX.3197</th>\n",
       "    </tr>\n",
       "  </thead>\n",
       "  <tbody>\n",
       "    <tr>\n",
       "      <th>0</th>\n",
       "      <td>2</td>\n",
       "      <td>93.85</td>\n",
       "      <td>83.81</td>\n",
       "      <td>20.10</td>\n",
       "      <td>-26.98</td>\n",
       "      <td>-39.56</td>\n",
       "      <td>-124.71</td>\n",
       "      <td>-135.18</td>\n",
       "      <td>-96.27</td>\n",
       "      <td>-79.89</td>\n",
       "      <td>...</td>\n",
       "      <td>-78.07</td>\n",
       "      <td>-102.15</td>\n",
       "      <td>-102.15</td>\n",
       "      <td>25.13</td>\n",
       "      <td>48.57</td>\n",
       "      <td>92.54</td>\n",
       "      <td>39.32</td>\n",
       "      <td>61.42</td>\n",
       "      <td>5.08</td>\n",
       "      <td>-39.54</td>\n",
       "    </tr>\n",
       "    <tr>\n",
       "      <th>1</th>\n",
       "      <td>2</td>\n",
       "      <td>-38.88</td>\n",
       "      <td>-33.83</td>\n",
       "      <td>-58.54</td>\n",
       "      <td>-40.09</td>\n",
       "      <td>-79.31</td>\n",
       "      <td>-72.81</td>\n",
       "      <td>-86.55</td>\n",
       "      <td>-85.33</td>\n",
       "      <td>-83.97</td>\n",
       "      <td>...</td>\n",
       "      <td>-3.28</td>\n",
       "      <td>-32.21</td>\n",
       "      <td>-32.21</td>\n",
       "      <td>-24.89</td>\n",
       "      <td>-4.86</td>\n",
       "      <td>0.76</td>\n",
       "      <td>-11.70</td>\n",
       "      <td>6.46</td>\n",
       "      <td>16.00</td>\n",
       "      <td>19.93</td>\n",
       "    </tr>\n",
       "    <tr>\n",
       "      <th>2</th>\n",
       "      <td>2</td>\n",
       "      <td>532.64</td>\n",
       "      <td>535.92</td>\n",
       "      <td>513.73</td>\n",
       "      <td>496.92</td>\n",
       "      <td>456.45</td>\n",
       "      <td>466.00</td>\n",
       "      <td>464.50</td>\n",
       "      <td>486.39</td>\n",
       "      <td>436.56</td>\n",
       "      <td>...</td>\n",
       "      <td>-71.69</td>\n",
       "      <td>13.31</td>\n",
       "      <td>13.31</td>\n",
       "      <td>-29.89</td>\n",
       "      <td>-20.88</td>\n",
       "      <td>5.06</td>\n",
       "      <td>-11.80</td>\n",
       "      <td>-28.91</td>\n",
       "      <td>-70.02</td>\n",
       "      <td>-96.67</td>\n",
       "    </tr>\n",
       "    <tr>\n",
       "      <th>3</th>\n",
       "      <td>2</td>\n",
       "      <td>326.52</td>\n",
       "      <td>347.39</td>\n",
       "      <td>302.35</td>\n",
       "      <td>298.13</td>\n",
       "      <td>317.74</td>\n",
       "      <td>312.70</td>\n",
       "      <td>322.33</td>\n",
       "      <td>311.31</td>\n",
       "      <td>312.42</td>\n",
       "      <td>...</td>\n",
       "      <td>5.71</td>\n",
       "      <td>-3.73</td>\n",
       "      <td>-3.73</td>\n",
       "      <td>30.05</td>\n",
       "      <td>20.03</td>\n",
       "      <td>-12.67</td>\n",
       "      <td>-8.77</td>\n",
       "      <td>-17.31</td>\n",
       "      <td>-17.35</td>\n",
       "      <td>13.98</td>\n",
       "    </tr>\n",
       "    <tr>\n",
       "      <th>4</th>\n",
       "      <td>2</td>\n",
       "      <td>-1107.21</td>\n",
       "      <td>-1112.59</td>\n",
       "      <td>-1118.95</td>\n",
       "      <td>-1095.10</td>\n",
       "      <td>-1057.55</td>\n",
       "      <td>-1034.48</td>\n",
       "      <td>-998.34</td>\n",
       "      <td>-1022.71</td>\n",
       "      <td>-989.57</td>\n",
       "      <td>...</td>\n",
       "      <td>-594.37</td>\n",
       "      <td>-401.66</td>\n",
       "      <td>-401.66</td>\n",
       "      <td>-357.24</td>\n",
       "      <td>-443.76</td>\n",
       "      <td>-438.54</td>\n",
       "      <td>-399.71</td>\n",
       "      <td>-384.65</td>\n",
       "      <td>-411.79</td>\n",
       "      <td>-510.54</td>\n",
       "    </tr>\n",
       "  </tbody>\n",
       "</table>\n",
       "<p>5 rows × 3198 columns</p>\n",
       "</div>"
      ],
      "text/plain": [
       "   LABEL   FLUX.1   FLUX.2   FLUX.3   FLUX.4   FLUX.5   FLUX.6  FLUX.7  \\\n",
       "0      2    93.85    83.81    20.10   -26.98   -39.56  -124.71 -135.18   \n",
       "1      2   -38.88   -33.83   -58.54   -40.09   -79.31   -72.81  -86.55   \n",
       "2      2   532.64   535.92   513.73   496.92   456.45   466.00  464.50   \n",
       "3      2   326.52   347.39   302.35   298.13   317.74   312.70  322.33   \n",
       "4      2 -1107.21 -1112.59 -1118.95 -1095.10 -1057.55 -1034.48 -998.34   \n",
       "\n",
       "    FLUX.8  FLUX.9    ...      FLUX.3188  FLUX.3189  FLUX.3190  FLUX.3191  \\\n",
       "0   -96.27  -79.89    ...         -78.07    -102.15    -102.15      25.13   \n",
       "1   -85.33  -83.97    ...          -3.28     -32.21     -32.21     -24.89   \n",
       "2   486.39  436.56    ...         -71.69      13.31      13.31     -29.89   \n",
       "3   311.31  312.42    ...           5.71      -3.73      -3.73      30.05   \n",
       "4 -1022.71 -989.57    ...        -594.37    -401.66    -401.66    -357.24   \n",
       "\n",
       "   FLUX.3192  FLUX.3193  FLUX.3194  FLUX.3195  FLUX.3196  FLUX.3197  \n",
       "0      48.57      92.54      39.32      61.42       5.08     -39.54  \n",
       "1      -4.86       0.76     -11.70       6.46      16.00      19.93  \n",
       "2     -20.88       5.06     -11.80     -28.91     -70.02     -96.67  \n",
       "3      20.03     -12.67      -8.77     -17.31     -17.35      13.98  \n",
       "4    -443.76    -438.54    -399.71    -384.65    -411.79    -510.54  \n",
       "\n",
       "[5 rows x 3198 columns]"
      ]
     },
     "execution_count": 132,
     "metadata": {},
     "output_type": "execute_result"
    }
   ],
   "source": [
    "#Read in the training and testing data sets & take a quick look\n",
    "\n",
    "kepler = pd.read_csv('./kepler-labelled-time-series-data/exoTrain.csv')\n",
    "kepler_test = pd.read_csv('./kepler-labelled-time-series-data/exoTest.csv')\n",
    "kepler.head()"
   ]
  },
  {
   "cell_type": "code",
   "execution_count": 133,
   "metadata": {},
   "outputs": [
    {
     "data": {
      "text/plain": [
       "Index(['LABEL', 'FLUX.1', 'FLUX.2', 'FLUX.3', 'FLUX.4', 'FLUX.5', 'FLUX.6',\n",
       "       'FLUX.7', 'FLUX.8', 'FLUX.9',\n",
       "       ...\n",
       "       'FLUX.3188', 'FLUX.3189', 'FLUX.3190', 'FLUX.3191', 'FLUX.3192',\n",
       "       'FLUX.3193', 'FLUX.3194', 'FLUX.3195', 'FLUX.3196', 'FLUX.3197'],\n",
       "      dtype='object', length=3198)"
      ]
     },
     "execution_count": 133,
     "metadata": {},
     "output_type": "execute_result"
    }
   ],
   "source": [
    "#Look at column names\n",
    "kepler.columns"
   ]
  },
  {
   "cell_type": "code",
   "execution_count": 135,
   "metadata": {},
   "outputs": [],
   "source": [
    "#Train, test and split the training data set for use in evaluating multiple models\n",
    "from sklearn.model_selection import train_test_split\n",
    "\n",
    "#Limiting the number of rows of data being used\n",
    "#Want the values to be more evenly split between stars with planets and those without\n",
    "#This results in better models\n",
    "feature_cols = kepler.columns[1:3197]\n",
    "X = kepler.loc[0:150, feature_cols]\n",
    "y = kepler.loc[0:150, 'LABEL']\n",
    "\n",
    "X_train, X_test, y_train, y_test = train_test_split(X, y, test_size=0.3)"
   ]
  },
  {
   "cell_type": "markdown",
   "metadata": {},
   "source": [
    "## Logistic Regression Model"
   ]
  },
  {
   "cell_type": "code",
   "execution_count": 136,
   "metadata": {},
   "outputs": [
    {
     "data": {
      "text/plain": [
       "array([2, 2, 2, 1, 2, 1, 1, 1, 1, 2, 1, 2, 2, 2, 1, 1, 1, 2, 2, 1, 2, 2, 2,\n",
       "       2, 1, 2, 1, 1, 1, 1, 2, 2, 1, 1, 2, 2, 2, 1, 1, 1, 2, 1, 1, 1, 2, 2])"
      ]
     },
     "execution_count": 136,
     "metadata": {},
     "output_type": "execute_result"
    }
   ],
   "source": [
    "#Fit a logistic regression estimator\n",
    "from sklearn.linear_model import LogisticRegression\n",
    "\n",
    "logreg = LogisticRegression()\n",
    "\n",
    "logreg.fit(X_train, y_train)\n",
    "y_pred = logreg.predict(X_test)\n",
    "y_pred"
   ]
  },
  {
   "cell_type": "code",
   "execution_count": 137,
   "metadata": {},
   "outputs": [
    {
     "data": {
      "text/plain": [
       "0.54347826086956519"
      ]
     },
     "execution_count": 137,
     "metadata": {},
     "output_type": "execute_result"
    }
   ],
   "source": [
    "#Get score of the logistic regression model on the test set\n",
    "logreg.score(X_test, y_test)"
   ]
  },
  {
   "cell_type": "code",
   "execution_count": 138,
   "metadata": {},
   "outputs": [
    {
     "data": {
      "text/plain": [
       "array([[18, 16],\n",
       "       [ 5,  7]])"
      ]
     },
     "execution_count": 138,
     "metadata": {},
     "output_type": "execute_result"
    }
   ],
   "source": [
    "#Get the confusion matrix for the logistic regression model\n",
    "metrics.confusion_matrix(y_test, y_pred)"
   ]
  },
  {
   "cell_type": "markdown",
   "metadata": {},
   "source": [
    "## Null Model"
   ]
  },
  {
   "cell_type": "code",
   "execution_count": 139,
   "metadata": {},
   "outputs": [
    {
     "name": "stdout",
     "output_type": "stream",
     "text": [
      "The null model accuracy is: 0.761904761905\n"
     ]
    }
   ],
   "source": [
    "#Compare to null model\n",
    "frequencies = y_train.value_counts().sort_values(ascending=False)\n",
    "biggest_frequency = frequencies.iloc[0]\n",
    "total = frequencies.sum()\n",
    "null_accuracy = biggest_frequency / total\n",
    "print('The null model accuracy is: ' + str(null_accuracy))"
   ]
  },
  {
   "cell_type": "markdown",
   "metadata": {},
   "source": [
    "## K-Nearest Neighbors Model"
   ]
  },
  {
   "cell_type": "code",
   "execution_count": 140,
   "metadata": {
    "collapsed": true
   },
   "outputs": [],
   "source": [
    "#Standardize features before trying K-Nearest Neighbors\n",
    "from sklearn.preprocessing import StandardScaler\n",
    "\n",
    "scaler = StandardScaler()\n",
    "scaler.fit(X_train)\n",
    "X_train_std = scaler.transform(X_train)\n",
    "X_test_std = scaler.transform(X_test)"
   ]
  },
  {
   "cell_type": "code",
   "execution_count": 141,
   "metadata": {},
   "outputs": [
    {
     "data": {
      "text/plain": [
       "0.71739130434782605"
      ]
     },
     "execution_count": 141,
     "metadata": {},
     "output_type": "execute_result"
    }
   ],
   "source": [
    "#Try K-Nearest Neighbors with k=1\n",
    "from sklearn.neighbors import KNeighborsClassifier\n",
    "\n",
    "knn = KNeighborsClassifier(n_neighbors=1)\n",
    "knn.fit(X_train_std, y_train)\n",
    "\n",
    "y_pred = knn.predict(X_test_std)\n",
    "metrics.accuracy_score(y_test, y_pred)"
   ]
  },
  {
   "cell_type": "code",
   "execution_count": 142,
   "metadata": {
    "collapsed": true
   },
   "outputs": [],
   "source": [
    "#Go looking for the best number to use for k\n",
    "test_scores = []\n",
    "\n",
    "for k in range (1, 50):\n",
    "    knn = KNeighborsClassifier(n_neighbors=k)\n",
    "    knn.fit(X_train_std, y_train)\n",
    "    y_pred = knn.predict(X_test_std)\n",
    "    test_accuracy = metrics.accuracy_score(y_test, y_pred)\n",
    "    test_scores.append([k, test_accuracy])"
   ]
  },
  {
   "cell_type": "code",
   "execution_count": 143,
   "metadata": {},
   "outputs": [
    {
     "data": {
      "text/plain": [
       "[[1, 0.71739130434782605],\n",
       " [2, 0.73913043478260865],\n",
       " [3, 0.80434782608695654],\n",
       " [4, 0.78260869565217395],\n",
       " [5, 0.80434782608695654],\n",
       " [6, 0.78260869565217395],\n",
       " [7, 0.78260869565217395],\n",
       " [8, 0.76086956521739135],\n",
       " [9, 0.76086956521739135],\n",
       " [10, 0.76086956521739135],\n",
       " [11, 0.76086956521739135],\n",
       " [12, 0.73913043478260865],\n",
       " [13, 0.73913043478260865],\n",
       " [14, 0.73913043478260865],\n",
       " [15, 0.73913043478260865],\n",
       " [16, 0.73913043478260865],\n",
       " [17, 0.73913043478260865],\n",
       " [18, 0.73913043478260865],\n",
       " [19, 0.73913043478260865],\n",
       " [20, 0.73913043478260865],\n",
       " [21, 0.73913043478260865],\n",
       " [22, 0.73913043478260865],\n",
       " [23, 0.73913043478260865],\n",
       " [24, 0.73913043478260865],\n",
       " [25, 0.73913043478260865],\n",
       " [26, 0.73913043478260865],\n",
       " [27, 0.73913043478260865],\n",
       " [28, 0.73913043478260865],\n",
       " [29, 0.73913043478260865],\n",
       " [30, 0.73913043478260865],\n",
       " [31, 0.73913043478260865],\n",
       " [32, 0.73913043478260865],\n",
       " [33, 0.73913043478260865],\n",
       " [34, 0.73913043478260865],\n",
       " [35, 0.73913043478260865],\n",
       " [36, 0.73913043478260865],\n",
       " [37, 0.73913043478260865],\n",
       " [38, 0.73913043478260865],\n",
       " [39, 0.73913043478260865],\n",
       " [40, 0.73913043478260865],\n",
       " [41, 0.73913043478260865],\n",
       " [42, 0.73913043478260865],\n",
       " [43, 0.73913043478260865],\n",
       " [44, 0.73913043478260865],\n",
       " [45, 0.73913043478260865],\n",
       " [46, 0.73913043478260865],\n",
       " [47, 0.73913043478260865],\n",
       " [48, 0.73913043478260865],\n",
       " [49, 0.73913043478260865]]"
      ]
     },
     "execution_count": 143,
     "metadata": {},
     "output_type": "execute_result"
    }
   ],
   "source": [
    "test_scores"
   ]
  },
  {
   "cell_type": "code",
   "execution_count": 144,
   "metadata": {},
   "outputs": [
    {
     "data": {
      "image/png": "[encoded data removed]",
      "text/plain": [
       "<Figure size 432x288 with 1 Axes>"
      ]
     },
     "metadata": {},
     "output_type": "display_data"
    }
   ],
   "source": [
    "#Plot the resulting scores by the k-value\n",
    "scores_df = pd.DataFrame(test_scores, columns=['k', 'test_score'])\n",
    "ax = scores_df.plot(x='k', y='test_score')"
   ]
  },
  {
   "cell_type": "code",
   "execution_count": 145,
   "metadata": {},
   "outputs": [
    {
     "data": {
      "text/plain": [
       "0.80434782608695654"
      ]
     },
     "execution_count": 145,
     "metadata": {},
     "output_type": "execute_result"
    }
   ],
   "source": [
    "#Try k=3 since that looks like a good number based on the graph\n",
    "knn = KNeighborsClassifier(n_neighbors=3)\n",
    "knn.fit(X_train_std, y_train)\n",
    "\n",
    "y_pred = knn.predict(X_test_std)\n",
    "metrics.accuracy_score(y_test, y_pred)"
   ]
  },
  {
   "cell_type": "code",
   "execution_count": 146,
   "metadata": {},
   "outputs": [
    {
     "data": {
      "text/plain": [
       "array([[34,  0],\n",
       "       [ 9,  3]])"
      ]
     },
     "execution_count": 146,
     "metadata": {},
     "output_type": "execute_result"
    }
   ],
   "source": [
    "#Look at the confusion matrix for k=3\n",
    "metrics.confusion_matrix(y_test, y_pred)"
   ]
  },
  {
   "cell_type": "markdown",
   "metadata": {},
   "source": [
    "## Decision Tree Model"
   ]
  },
  {
   "cell_type": "code",
   "execution_count": 147,
   "metadata": {
    "collapsed": true
   },
   "outputs": [],
   "source": [
    "#Building a decision tree model to compare results\n",
    "from sklearn.tree import DecisionTreeClassifier\n",
    "from sklearn.model_selection import cross_val_score\n",
    "\n",
    "treeclass = DecisionTreeClassifier(max_depth=None)"
   ]
  },
  {
   "cell_type": "code",
   "execution_count": 149,
   "metadata": {},
   "outputs": [
    {
     "data": {
      "text/plain": [
       "0.50450153528322561"
      ]
     },
     "execution_count": 149,
     "metadata": {},
     "output_type": "execute_result"
    }
   ],
   "source": [
    "#Calculate RMSE for the model\n",
    "scores = cross_val_score(treeclass, X_train, y_train, cv=20, scoring='neg_mean_squared_error')\n",
    "np.mean(np.sqrt(-scores))"
   ]
  },
  {
   "cell_type": "code",
   "execution_count": 150,
   "metadata": {
    "collapsed": true
   },
   "outputs": [],
   "source": [
    "#Tune the model for max depth\n",
    "\n",
    "#List of values to try:\n",
    "max_depth_range = list(range(1, 20))\n",
    "\n",
    "# List to store the average RMSE for each value of max_depth:\n",
    "RMSE_scores = []\n",
    "\n",
    "# Use LOOCV with each value of max_depth.\n",
    "for depth in max_depth_range:\n",
    "    treeclass = DecisionTreeClassifier(max_depth=depth)\n",
    "    MSE_scores = cross_val_score(treereg, X_train, y_train, cv=20, scoring='neg_mean_squared_error')\n",
    "    RMSE_scores.append(np.mean(np.sqrt(-MSE_scores)))"
   ]
  },
  {
   "cell_type": "code",
   "execution_count": 151,
   "metadata": {},
   "outputs": [
    {
     "data": {
      "text/plain": [
       "[0.44298174847556648,\n",
       " 0.42192898380683597,\n",
       " 0.44298174847556648,\n",
       " 0.41303997945920212,\n",
       " 0.43409274412793264,\n",
       " 0.41303997945920212,\n",
       " 0.41303997945920212,\n",
       " 0.44298174847556648,\n",
       " 0.42192898380683597,\n",
       " 0.41303997945920212,\n",
       " 0.42192898380683597,\n",
       " 0.43409274412793264,\n",
       " 0.42192898380683597,\n",
       " 0.43409274412793264,\n",
       " 0.41303997945920212,\n",
       " 0.42192898380683597,\n",
       " 0.41303997945920212,\n",
       " 0.42192898380683597,\n",
       " 0.43409274412793264]"
      ]
     },
     "execution_count": 151,
     "metadata": {},
     "output_type": "execute_result"
    }
   ],
   "source": [
    "RMSE_scores"
   ]
  },
  {
   "cell_type": "code",
   "execution_count": 152,
   "metadata": {},
   "outputs": [
    {
     "data": {
      "image/png": "[encoded data removed]",
      "text/plain": [
       "<Figure size 432x288 with 1 Axes>"
      ]
     },
     "metadata": {},
     "output_type": "display_data"
    }
   ],
   "source": [
    "# Plot max_depth (x-axis) versus RMSE (y-axis).\n",
    "\n",
    "fig, ax = plt.subplots()\n",
    "ax.plot(max_depth_range, RMSE_scores);\n",
    "ax.set_xlabel('max_depth');\n",
    "ax.set_ylabel('RMSE');"
   ]
  },
  {
   "cell_type": "code",
   "execution_count": 153,
   "metadata": {},
   "outputs": [
    {
     "name": "stdout",
     "output_type": "stream",
     "text": [
      "The accuracy for the Decision Tree was: 0.891304347826\n"
     ]
    }
   ],
   "source": [
    "# max_depth=2 looks good, so fit a tree using that parameter.\n",
    "# /scrub/\n",
    "treeclass = DecisionTreeClassifier(max_depth=2)\n",
    "\n",
    "treeclass.fit(X_train, y_train)\n",
    "\n",
    "y_pred = treeclass.predict(X_test)\n",
    "test_accuracy = metrics.accuracy_score(y_test, y_pred)\n",
    "print('The accuracy for the Decision Tree was: ' + str(test_accuracy))"
   ]
  },
  {
   "cell_type": "code",
   "execution_count": 154,
   "metadata": {},
   "outputs": [
    {
     "data": {
      "text/plain": [
       "array([[33,  1],\n",
       "       [ 4,  8]])"
      ]
     },
     "execution_count": 154,
     "metadata": {},
     "output_type": "execute_result"
    }
   ],
   "source": [
    "#Confusion matrix for the decision tree model\n",
    "metrics.confusion_matrix(y_test, y_pred)"
   ]
  },
  {
   "cell_type": "markdown",
   "metadata": {},
   "source": [
    "## Random Forest (aka are more trees better)"
   ]
  },
  {
   "cell_type": "code",
   "execution_count": 155,
   "metadata": {
    "collapsed": true
   },
   "outputs": [],
   "source": [
    "#Trying out a random forest now!\n",
    "\n",
    "rand_treeclass = DecisionTreeClassifier(max_depth=None)\n",
    "\n",
    "samples = [np.random.choice(a=500, size=500, replace=True) for _ in range(1,571)]"
   ]
  },
  {
   "cell_type": "code",
   "execution_count": 156,
   "metadata": {
    "collapsed": true
   },
   "outputs": [],
   "source": [
    "# Define testing data.\n",
    "X_test = kepler_test.iloc[:, 1:]\n",
    "y_test = kepler_test.iloc[:, 0]"
   ]
  },
  {
   "cell_type": "code",
   "execution_count": 157,
   "metadata": {},
   "outputs": [
    {
     "data": {
      "text/plain": [
       "[[1, 0.90000000000000002],\n",
       " [2, 0.90175438596491231],\n",
       " [3, 0.91578947368421049],\n",
       " [4, 0.91578947368421049],\n",
       " [5, 0.92456140350877192],\n",
       " [6, 0.90175438596491231],\n",
       " [7, 0.88596491228070173],\n",
       " [8, 0.91578947368421049],\n",
       " [9, 0.90175438596491231],\n",
       " [10, 0.85964912280701755],\n",
       " [11, 0.87368421052631584],\n",
       " [12, 0.89824561403508774],\n",
       " [13, 0.93157894736842106],\n",
       " [14, 0.92105263157894735],\n",
       " [15, 0.91228070175438591],\n",
       " [16, 0.89122807017543859],\n",
       " [17, 0.93333333333333335],\n",
       " [18, 0.89473684210526316],\n",
       " [19, 0.88070175438596487],\n",
       " [20, 0.85438596491228069],\n",
       " [21, 0.86140350877192984],\n",
       " [22, 0.90175438596491231],\n",
       " [23, 0.90526315789473688],\n",
       " [24, 0.92982456140350878],\n",
       " [25, 0.91228070175438591],\n",
       " [26, 0.93684210526315792],\n",
       " [27, 0.90175438596491231],\n",
       " [28, 0.92982456140350878],\n",
       " [29, 0.90175438596491231],\n",
       " [30, 0.90350877192982459],\n",
       " [31, 0.85964912280701755],\n",
       " [32, 0.90000000000000002],\n",
       " [33, 0.88596491228070173],\n",
       " [34, 0.89824561403508774],\n",
       " [35, 0.87192982456140355],\n",
       " [36, 0.90526315789473688],\n",
       " [37, 0.91052631578947374],\n",
       " [38, 0.90526315789473688],\n",
       " [39, 0.91929824561403506],\n",
       " [40, 0.92280701754385963],\n",
       " [41, 0.86842105263157898],\n",
       " [42, 0.90701754385964917],\n",
       " [43, 0.91228070175438591],\n",
       " [44, 0.90175438596491231],\n",
       " [45, 0.91052631578947374],\n",
       " [46, 0.90350877192982459],\n",
       " [47, 0.92105263157894735],\n",
       " [48, 0.92105263157894735],\n",
       " [49, 0.90526315789473688],\n",
       " [50, 0.92280701754385963],\n",
       " [51, 0.91754385964912277],\n",
       " [52, 0.92982456140350878],\n",
       " [53, 0.92280701754385963],\n",
       " [54, 0.91578947368421049],\n",
       " [55, 0.93157894736842106],\n",
       " [56, 0.94385964912280707],\n",
       " [57, 0.88070175438596487],\n",
       " [58, 0.90526315789473688],\n",
       " [59, 0.91754385964912277],\n",
       " [60, 0.94912280701754381],\n",
       " [61, 0.90350877192982459],\n",
       " [62, 0.91228070175438591],\n",
       " [63, 0.90175438596491231],\n",
       " [64, 0.91228070175438591],\n",
       " [65, 0.92280701754385963],\n",
       " [66, 0.89473684210526316],\n",
       " [67, 0.92280701754385963],\n",
       " [68, 0.87894736842105259],\n",
       " [69, 0.92982456140350878],\n",
       " [70, 0.92280701754385963],\n",
       " [71, 0.90877192982456145],\n",
       " [72, 0.90000000000000002],\n",
       " [73, 0.92456140350877192],\n",
       " [74, 0.90877192982456145],\n",
       " [75, 0.92982456140350878],\n",
       " [76, 0.91052631578947374],\n",
       " [77, 0.92982456140350878],\n",
       " [78, 0.93508771929824563],\n",
       " [79, 0.91929824561403506],\n",
       " [80, 0.87894736842105259],\n",
       " [81, 0.90175438596491231],\n",
       " [82, 0.88771929824561402],\n",
       " [83, 0.90000000000000002],\n",
       " [84, 0.90877192982456145],\n",
       " [85, 0.87543859649122802],\n",
       " [86, 0.91052631578947374],\n",
       " [87, 0.92982456140350878],\n",
       " [88, 0.94736842105263153],\n",
       " [89, 0.90877192982456145],\n",
       " [90, 0.88596491228070173],\n",
       " [91, 0.88070175438596487],\n",
       " [92, 0.91052631578947374],\n",
       " [93, 0.9140350877192982],\n",
       " [94, 0.94385964912280707],\n",
       " [95, 0.93684210526315792],\n",
       " [96, 0.89298245614035088],\n",
       " [97, 0.93333333333333335],\n",
       " [98, 0.92982456140350878],\n",
       " [99, 0.91228070175438591],\n",
       " [100, 0.90000000000000002],\n",
       " [101, 0.90701754385964917],\n",
       " [102, 0.91578947368421049],\n",
       " [103, 0.89649122807017545],\n",
       " [104, 0.93157894736842106],\n",
       " [105, 0.89649122807017545],\n",
       " [106, 0.93157894736842106],\n",
       " [107, 0.91578947368421049],\n",
       " [108, 0.90350877192982459],\n",
       " [109, 0.94912280701754381],\n",
       " [110, 0.9140350877192982],\n",
       " [111, 0.90877192982456145],\n",
       " [112, 0.92280701754385963],\n",
       " [113, 0.93157894736842106],\n",
       " [114, 0.94210526315789478],\n",
       " [115, 0.90701754385964917],\n",
       " [116, 0.92280701754385963],\n",
       " [117, 0.90350877192982459],\n",
       " [118, 0.88421052631578945],\n",
       " [119, 0.91052631578947374],\n",
       " [120, 0.92807017543859649],\n",
       " [121, 0.92105263157894735],\n",
       " [122, 0.91578947368421049],\n",
       " [123, 0.94385964912280707],\n",
       " [124, 0.9263157894736842],\n",
       " [125, 0.94561403508771935],\n",
       " [126, 0.88421052631578945],\n",
       " [127, 0.9263157894736842],\n",
       " [128, 0.91754385964912277],\n",
       " [129, 0.89824561403508774],\n",
       " [130, 0.89824561403508774],\n",
       " [131, 0.8771929824561403],\n",
       " [132, 0.9140350877192982],\n",
       " [133, 0.88245614035087716],\n",
       " [134, 0.93333333333333335],\n",
       " [135, 0.92456140350877192],\n",
       " [136, 0.91052631578947374],\n",
       " [137, 0.91929824561403506],\n",
       " [138, 0.90526315789473688],\n",
       " [139, 0.90350877192982459],\n",
       " [140, 0.90526315789473688],\n",
       " [141, 0.92105263157894735],\n",
       " [142, 0.93333333333333335],\n",
       " [143, 0.88771929824561402],\n",
       " [144, 0.9263157894736842],\n",
       " [145, 0.88596491228070173],\n",
       " [146, 0.86315789473684212],\n",
       " [147, 0.91228070175438591],\n",
       " [148, 0.90000000000000002],\n",
       " [149, 0.91929824561403506],\n",
       " [150, 0.93684210526315792],\n",
       " [151, 0.94210526315789478],\n",
       " [152, 0.89473684210526316],\n",
       " [153, 0.91929824561403506],\n",
       " [154, 0.93508771929824563],\n",
       " [155, 0.89298245614035088],\n",
       " [156, 0.89824561403508774],\n",
       " [157, 0.92280701754385963],\n",
       " [158, 0.90350877192982459],\n",
       " [159, 0.88771929824561402],\n",
       " [160, 0.90000000000000002],\n",
       " [161, 0.92456140350877192],\n",
       " [162, 0.90701754385964917],\n",
       " [163, 0.87894736842105259],\n",
       " [164, 0.91929824561403506],\n",
       " [165, 0.93157894736842106],\n",
       " [166, 0.91578947368421049],\n",
       " [167, 0.95263157894736838],\n",
       " [168, 0.89122807017543859],\n",
       " [169, 0.90877192982456145],\n",
       " [170, 0.91228070175438591],\n",
       " [171, 0.92280701754385963],\n",
       " [172, 0.90526315789473688],\n",
       " [173, 0.91228070175438591],\n",
       " [174, 0.88947368421052631],\n",
       " [175, 0.86140350877192984],\n",
       " [176, 0.88421052631578945],\n",
       " [177, 0.90175438596491231],\n",
       " [178, 0.91578947368421049],\n",
       " [179, 0.91052631578947374],\n",
       " [180, 0.9508771929824561],\n",
       " [181, 0.89649122807017545],\n",
       " [182, 0.9140350877192982],\n",
       " [183, 0.91754385964912277],\n",
       " [184, 0.90000000000000002],\n",
       " [185, 0.91929824561403506],\n",
       " [186, 0.89649122807017545],\n",
       " [187, 0.89824561403508774],\n",
       " [188, 0.92280701754385963],\n",
       " [189, 0.89649122807017545],\n",
       " [190, 0.90350877192982459],\n",
       " [191, 0.86842105263157898],\n",
       " [192, 0.93859649122807021],\n",
       " [193, 0.90000000000000002],\n",
       " [194, 0.90175438596491231],\n",
       " [195, 0.90000000000000002],\n",
       " [196, 0.95263157894736838],\n",
       " [197, 0.93684210526315792],\n",
       " [198, 0.90526315789473688],\n",
       " [199, 0.90350877192982459],\n",
       " [200, 0.91052631578947374],\n",
       " [201, 0.9140350877192982],\n",
       " [202, 0.92105263157894735],\n",
       " [203, 0.88596491228070173],\n",
       " [204, 0.95263157894736838],\n",
       " [205, 0.94385964912280707],\n",
       " [206, 0.91929824561403506],\n",
       " [207, 0.88947368421052631],\n",
       " [208, 0.92982456140350878],\n",
       " [209, 0.87192982456140355],\n",
       " [210, 0.92105263157894735],\n",
       " [211, 0.92982456140350878],\n",
       " [212, 0.90877192982456145],\n",
       " [213, 0.91754385964912277],\n",
       " [214, 0.90877192982456145],\n",
       " [215, 0.88596491228070173],\n",
       " [216, 0.88947368421052631],\n",
       " [217, 0.91052631578947374],\n",
       " [218, 0.90877192982456145],\n",
       " [219, 0.92280701754385963],\n",
       " [220, 0.91929824561403506],\n",
       " [221, 0.88771929824561402],\n",
       " [222, 0.93333333333333335],\n",
       " [223, 0.89649122807017545],\n",
       " [224, 0.92807017543859649],\n",
       " [225, 0.91754385964912277],\n",
       " [226, 0.92807017543859649],\n",
       " [227, 0.89122807017543859],\n",
       " [228, 0.93684210526315792],\n",
       " [229, 0.92807017543859649],\n",
       " [230, 0.88771929824561402],\n",
       " [231, 0.93157894736842106],\n",
       " [232, 0.90175438596491231],\n",
       " [233, 0.94385964912280707],\n",
       " [234, 0.9140350877192982],\n",
       " [235, 0.88947368421052631],\n",
       " [236, 0.89122807017543859],\n",
       " [237, 0.91052631578947374],\n",
       " [238, 0.90877192982456145],\n",
       " [239, 0.9140350877192982],\n",
       " [240, 0.90701754385964917],\n",
       " [241, 0.94210526315789478],\n",
       " [242, 0.89824561403508774],\n",
       " [243, 0.89473684210526316],\n",
       " [244, 0.90877192982456145],\n",
       " [245, 0.91929824561403506],\n",
       " [246, 0.92280701754385963],\n",
       " [247, 0.90877192982456145],\n",
       " [248, 0.92982456140350878],\n",
       " [249, 0.88771929824561402],\n",
       " [250, 0.87894736842105259],\n",
       " [251, 0.92982456140350878],\n",
       " [252, 0.90000000000000002],\n",
       " [253, 0.90526315789473688],\n",
       " [254, 0.89824561403508774],\n",
       " [255, 0.85789473684210527],\n",
       " [256, 0.89473684210526316],\n",
       " [257, 0.88947368421052631],\n",
       " [258, 0.90350877192982459],\n",
       " [259, 0.89824561403508774],\n",
       " [260, 0.90350877192982459],\n",
       " [261, 0.90175438596491231],\n",
       " [262, 0.91228070175438591],\n",
       " [263, 0.9263157894736842],\n",
       " [264, 0.88245614035087716],\n",
       " [265, 0.89649122807017545],\n",
       " [266, 0.85263157894736841],\n",
       " [267, 0.91578947368421049],\n",
       " [268, 0.94210526315789478],\n",
       " [269, 0.89298245614035088],\n",
       " [270, 0.86842105263157898],\n",
       " [271, 0.9263157894736842],\n",
       " [272, 0.89298245614035088],\n",
       " [273, 0.91754385964912277],\n",
       " [274, 0.90175438596491231],\n",
       " [275, 0.93859649122807021],\n",
       " [276, 0.88421052631578945],\n",
       " [277, 0.91578947368421049],\n",
       " [278, 0.93859649122807021],\n",
       " [279, 0.90350877192982459],\n",
       " [280, 0.90701754385964917],\n",
       " [281, 0.87894736842105259],\n",
       " [282, 0.86140350877192984],\n",
       " [283, 0.91052631578947374],\n",
       " [284, 0.90526315789473688],\n",
       " [285, 0.91052631578947374],\n",
       " [286, 0.8666666666666667],\n",
       " [287, 0.87543859649122802],\n",
       " [288, 0.93684210526315792],\n",
       " [289, 0.89649122807017545],\n",
       " [290, 0.91578947368421049],\n",
       " [291, 0.86491228070175441],\n",
       " [292, 0.9263157894736842],\n",
       " [293, 0.93684210526315792],\n",
       " [294, 0.93684210526315792],\n",
       " [295, 0.92105263157894735],\n",
       " [296, 0.90350877192982459],\n",
       " [297, 0.90526315789473688],\n",
       " [298, 0.92280701754385963],\n",
       " [299, 0.93157894736842106],\n",
       " [300, 0.91929824561403506],\n",
       " [301, 0.89122807017543859],\n",
       " [302, 0.93859649122807021],\n",
       " [303, 0.9263157894736842],\n",
       " [304, 0.94736842105263153],\n",
       " [305, 0.92280701754385963],\n",
       " [306, 0.92982456140350878],\n",
       " [307, 0.91228070175438591],\n",
       " [308, 0.93333333333333335],\n",
       " [309, 0.92105263157894735],\n",
       " [310, 0.87368421052631584],\n",
       " [311, 0.89122807017543859],\n",
       " [312, 0.90526315789473688],\n",
       " [313, 0.91228070175438591],\n",
       " [314, 0.93684210526315792],\n",
       " [315, 0.87192982456140355],\n",
       " [316, 0.91052631578947374],\n",
       " [317, 0.85087719298245612],\n",
       " [318, 0.93684210526315792],\n",
       " [319, 0.92105263157894735],\n",
       " [320, 0.93508771929824563],\n",
       " [321, 0.87894736842105259],\n",
       " [322, 0.92982456140350878],\n",
       " [323, 0.94561403508771935],\n",
       " [324, 0.9263157894736842],\n",
       " [325, 0.94561403508771935],\n",
       " [326, 0.91052631578947374],\n",
       " [327, 0.93333333333333335],\n",
       " [328, 0.91754385964912277],\n",
       " [329, 0.90701754385964917],\n",
       " [330, 0.9140350877192982],\n",
       " [331, 0.92456140350877192],\n",
       " [332, 0.94912280701754381],\n",
       " [333, 0.93508771929824563],\n",
       " [334, 0.90350877192982459],\n",
       " [335, 0.89649122807017545],\n",
       " [336, 0.92807017543859649],\n",
       " [337, 0.89298245614035088],\n",
       " [338, 0.90526315789473688],\n",
       " [339, 0.91052631578947374],\n",
       " [340, 0.89122807017543859],\n",
       " [341, 0.90350877192982459],\n",
       " [342, 0.89122807017543859],\n",
       " [343, 0.92280701754385963],\n",
       " [344, 0.92105263157894735],\n",
       " [345, 0.87192982456140355],\n",
       " [346, 0.93333333333333335],\n",
       " [347, 0.9140350877192982],\n",
       " [348, 0.90350877192982459],\n",
       " [349, 0.91929824561403506],\n",
       " [350, 0.91754385964912277],\n",
       " [351, 0.91578947368421049],\n",
       " [352, 0.9263157894736842],\n",
       " [353, 0.93508771929824563],\n",
       " [354, 0.90877192982456145],\n",
       " [355, 0.91228070175438591],\n",
       " [356, 0.91578947368421049],\n",
       " [357, 0.90000000000000002],\n",
       " [358, 0.89298245614035088],\n",
       " [359, 0.92982456140350878],\n",
       " [360, 0.91052631578947374],\n",
       " [361, 0.89122807017543859],\n",
       " [362, 0.90526315789473688],\n",
       " [363, 0.89298245614035088],\n",
       " [364, 0.89824561403508774],\n",
       " [365, 0.91929824561403506],\n",
       " [366, 0.91578947368421049],\n",
       " [367, 0.90877192982456145],\n",
       " [368, 0.89649122807017545],\n",
       " [369, 0.94210526315789478],\n",
       " [370, 0.86842105263157898],\n",
       " [371, 0.91754385964912277],\n",
       " [372, 0.88596491228070173],\n",
       " [373, 0.92280701754385963],\n",
       " [374, 0.90000000000000002],\n",
       " [375, 0.92456140350877192],\n",
       " [376, 0.88596491228070173],\n",
       " [377, 0.89824561403508774],\n",
       " [378, 0.90526315789473688],\n",
       " [379, 0.91754385964912277],\n",
       " [380, 0.88771929824561402],\n",
       " [381, 0.92280701754385963],\n",
       " [382, 0.92280701754385963],\n",
       " [383, 0.91228070175438591],\n",
       " [384, 0.93684210526315792],\n",
       " [385, 0.90350877192982459],\n",
       " [386, 0.8771929824561403],\n",
       " [387, 0.92456140350877192],\n",
       " [388, 0.90000000000000002],\n",
       " [389, 0.92105263157894735],\n",
       " [390, 0.94035087719298249],\n",
       " [391, 0.91754385964912277],\n",
       " [392, 0.92807017543859649],\n",
       " [393, 0.92982456140350878],\n",
       " [394, 0.94035087719298249],\n",
       " [395, 0.84210526315789469],\n",
       " [396, 0.90350877192982459],\n",
       " [397, 0.90175438596491231],\n",
       " [398, 0.93859649122807021],\n",
       " [399, 0.91578947368421049],\n",
       " [400, 0.93508771929824563],\n",
       " [401, 0.91228070175438591],\n",
       " [402, 0.91578947368421049],\n",
       " [403, 0.9140350877192982],\n",
       " [404, 0.92807017543859649],\n",
       " [405, 0.88771929824561402],\n",
       " [406, 0.90526315789473688],\n",
       " [407, 0.87543859649122802],\n",
       " [408, 0.86140350877192984],\n",
       " [409, 0.91754385964912277],\n",
       " [410, 0.89824561403508774],\n",
       " [411, 0.88070175438596487],\n",
       " [412, 0.91228070175438591],\n",
       " [413, 0.89824561403508774],\n",
       " [414, 0.92105263157894735],\n",
       " [415, 0.91578947368421049],\n",
       " [416, 0.88070175438596487],\n",
       " [417, 0.91929824561403506],\n",
       " [418, 0.87543859649122802],\n",
       " [419, 0.9140350877192982],\n",
       " [420, 0.89122807017543859],\n",
       " [421, 0.91052631578947374],\n",
       " [422, 0.93859649122807021],\n",
       " [423, 0.92105263157894735],\n",
       " [424, 0.92105263157894735],\n",
       " [425, 0.89649122807017545],\n",
       " [426, 0.88421052631578945],\n",
       " [427, 0.87368421052631584],\n",
       " [428, 0.88421052631578945],\n",
       " [429, 0.92456140350877192],\n",
       " [430, 0.94385964912280707],\n",
       " [431, 0.8771929824561403],\n",
       " [432, 0.93333333333333335],\n",
       " [433, 0.88771929824561402],\n",
       " [434, 0.94561403508771935],\n",
       " [435, 0.88596491228070173],\n",
       " [436, 0.90877192982456145],\n",
       " [437, 0.93333333333333335],\n",
       " [438, 0.92807017543859649],\n",
       " [439, 0.90526315789473688],\n",
       " [440, 0.91578947368421049],\n",
       " [441, 0.90701754385964917],\n",
       " [442, 0.90701754385964917],\n",
       " [443, 0.90701754385964917],\n",
       " [444, 0.89298245614035088],\n",
       " [445, 0.88947368421052631],\n",
       " [446, 0.92456140350877192],\n",
       " [447, 0.9263157894736842],\n",
       " [448, 0.93333333333333335],\n",
       " [449, 0.89473684210526316],\n",
       " [450, 0.93157894736842106],\n",
       " [451, 0.90175438596491231],\n",
       " [452, 0.93684210526315792],\n",
       " [453, 0.90526315789473688],\n",
       " [454, 0.91754385964912277],\n",
       " [455, 0.87543859649122802],\n",
       " [456, 0.93333333333333335],\n",
       " [457, 0.93508771929824563],\n",
       " [458, 0.91052631578947374],\n",
       " [459, 0.87543859649122802],\n",
       " [460, 0.90701754385964917],\n",
       " [461, 0.91929824561403506],\n",
       " [462, 0.93157894736842106],\n",
       " [463, 0.90175438596491231],\n",
       " [464, 0.93333333333333335],\n",
       " [465, 0.9140350877192982],\n",
       " [466, 0.91578947368421049],\n",
       " [467, 0.91228070175438591],\n",
       " [468, 0.88596491228070173],\n",
       " [469, 0.90701754385964917],\n",
       " [470, 0.93333333333333335],\n",
       " [471, 0.90350877192982459],\n",
       " [472, 0.88421052631578945],\n",
       " [473, 0.9140350877192982],\n",
       " [474, 0.88947368421052631],\n",
       " [475, 0.91754385964912277],\n",
       " [476, 0.9140350877192982],\n",
       " [477, 0.8771929824561403],\n",
       " [478, 0.90526315789473688],\n",
       " [479, 0.91052631578947374],\n",
       " [480, 0.87543859649122802],\n",
       " [481, 0.90175438596491231],\n",
       " [482, 0.91052631578947374],\n",
       " [483, 0.92280701754385963],\n",
       " [484, 0.93333333333333335],\n",
       " [485, 0.90175438596491231],\n",
       " [486, 0.89649122807017545],\n",
       " [487, 0.9263157894736842],\n",
       " [488, 0.87543859649122802],\n",
       " [489, 0.91929824561403506],\n",
       " [490, 0.91052631578947374],\n",
       " [491, 0.92982456140350878],\n",
       " [492, 0.9140350877192982],\n",
       " [493, 0.93333333333333335],\n",
       " [494, 0.89824561403508774],\n",
       " [495, 0.90701754385964917],\n",
       " [496, 0.87192982456140355],\n",
       " [497, 0.89649122807017545],\n",
       " [498, 0.92456140350877192],\n",
       " [499, 0.91578947368421049],\n",
       " [500, 0.91929824561403506],\n",
       " [501, 0.90701754385964917],\n",
       " [502, 0.94561403508771935],\n",
       " [503, 0.92807017543859649],\n",
       " [504, 0.90701754385964917],\n",
       " [505, 0.91754385964912277],\n",
       " [506, 0.89473684210526316],\n",
       " [507, 0.90701754385964917],\n",
       " [508, 0.89824561403508774],\n",
       " [509, 0.92280701754385963],\n",
       " [510, 0.90000000000000002],\n",
       " [511, 0.91228070175438591],\n",
       " [512, 0.90000000000000002],\n",
       " [513, 0.89649122807017545],\n",
       " [514, 0.88596491228070173],\n",
       " [515, 0.90877192982456145],\n",
       " [516, 0.90350877192982459],\n",
       " [517, 0.90701754385964917],\n",
       " [518, 0.9263157894736842],\n",
       " [519, 0.89122807017543859],\n",
       " [520, 0.94561403508771935],\n",
       " [521, 0.89649122807017545],\n",
       " [522, 0.90877192982456145],\n",
       " [523, 0.93508771929824563],\n",
       " [524, 0.91929824561403506],\n",
       " [525, 0.90526315789473688],\n",
       " [526, 0.91929824561403506],\n",
       " [527, 0.94561403508771935],\n",
       " [528, 0.89122807017543859],\n",
       " [529, 0.89824561403508774],\n",
       " [530, 0.88245614035087716],\n",
       " [531, 0.92456140350877192],\n",
       " [532, 0.85263157894736841],\n",
       " [533, 0.91578947368421049],\n",
       " [534, 0.89298245614035088],\n",
       " [535, 0.92807017543859649],\n",
       " [536, 0.89473684210526316],\n",
       " [537, 0.90175438596491231],\n",
       " [538, 0.9140350877192982],\n",
       " [539, 0.89122807017543859],\n",
       " [540, 0.91228070175438591],\n",
       " [541, 0.91578947368421049],\n",
       " [542, 0.88947368421052631],\n",
       " [543, 0.90526315789473688],\n",
       " [544, 0.9263157894736842],\n",
       " [545, 0.90526315789473688],\n",
       " [546, 0.90526315789473688],\n",
       " [547, 0.91052631578947374],\n",
       " [548, 0.9140350877192982],\n",
       " [549, 0.88596491228070173],\n",
       " [550, 0.95438596491228067],\n",
       " [551, 0.89649122807017545],\n",
       " [552, 0.9263157894736842],\n",
       " [553, 0.87543859649122802],\n",
       " [554, 0.93333333333333335],\n",
       " [555, 0.91754385964912277],\n",
       " [556, 0.91754385964912277],\n",
       " [557, 0.92280701754385963],\n",
       " [558, 0.92105263157894735],\n",
       " [559, 0.88771929824561402],\n",
       " [560, 0.88596491228070173],\n",
       " [561, 0.9263157894736842],\n",
       " [562, 0.89298245614035088],\n",
       " [563, 0.89298245614035088],\n",
       " [564, 0.88596491228070173],\n",
       " [565, 0.90701754385964917],\n",
       " [566, 0.89649122807017545],\n",
       " [567, 0.9263157894736842],\n",
       " [568, 0.91228070175438591],\n",
       " [569, 0.92982456140350878],\n",
       " [570, 0.9631578947368421]]"
      ]
     },
     "execution_count": 157,
     "metadata": {},
     "output_type": "execute_result"
    }
   ],
   "source": [
    "# Grow one tree for each bootstrap sample and make predictions on testing data.\n",
    "num = 1\n",
    "test_scores = []\n",
    "\n",
    "for sample in samples:\n",
    "    X_train = kepler.iloc[sample, 1:]\n",
    "    y_train = kepler.iloc[sample, 0]\n",
    "    rand_treeclass.fit(X_train, y_train)\n",
    "    y_pred = rand_treeclass.predict(X_test)\n",
    "    test_accuracy = metrics.accuracy_score(y_test, y_pred)\n",
    "    test_scores.append([num, test_accuracy])\n",
    "    num = num + 1\n",
    "\n",
    "test_scores"
   ]
  },
  {
   "cell_type": "code",
   "execution_count": 161,
   "metadata": {},
   "outputs": [
    {
     "data": {
      "image/png": "[encoded data removed]",
      "text/plain": [
       "<Figure size 432x288 with 1 Axes>"
      ]
     },
     "metadata": {},
     "output_type": "display_data"
    }
   ],
   "source": [
    "#Plot the resulting scores\n",
    "test_scores_df = pd.DataFrame(test_scores, columns=['num', 'test_accuracy'])\n",
    "ax = test_scores_df.plot(x='num', y='test_accuracy')"
   ]
  },
  {
   "cell_type": "code",
   "execution_count": 159,
   "metadata": {},
   "outputs": [
    {
     "data": {
      "text/plain": [
       "num              285.500000\n",
       "test_accuracy      0.909661\n",
       "dtype: float64"
      ]
     },
     "execution_count": 159,
     "metadata": {},
     "output_type": "execute_result"
    }
   ],
   "source": [
    "#mean of the test scores\n",
    "test_scores_df.mean()"
   ]
  },
  {
   "cell_type": "code",
   "execution_count": null,
   "metadata": {
    "collapsed": true
   },
   "outputs": [],
   "source": []
  }
 ],
 "metadata": {
  "kernelspec": {
   "display_name": "Python [default]",
   "language": "python",
   "name": "python3"
  },
  "language_info": {
   "codemirror_mode": {
    "name": "ipython",
    "version": 3
   },
   "file_extension": ".py",
   "mimetype": "text/x-python",
   "name": "python",
   "nbconvert_exporter": "python",
   "pygments_lexer": "ipython3",
   "version": "3.5.4"
  }
 },
 "nbformat": 4,
 "nbformat_minor": 2
}
